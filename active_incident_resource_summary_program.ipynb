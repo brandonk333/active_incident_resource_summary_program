{
 "cells": [
  {
   "cell_type": "code",
   "execution_count": 1,
   "id": "20c6ef89",
   "metadata": {},
   "outputs": [
    {
     "name": "stderr",
     "output_type": "stream",
     "text": [
      "100%|██████████████████████████████████████████████████████████████████████████████████| 15/15 [00:58<00:00,  3.92s/it]"
     ]
    },
    {
     "name": "stdout",
     "output_type": "stream",
     "text": [
      "Done!\n"
     ]
    },
    {
     "name": "stderr",
     "output_type": "stream",
     "text": [
      "\n"
     ]
    }
   ],
   "source": [
    "# Updated version of program that works for all years until 2016\n",
    "import tabula\n",
    "import os\n",
    "import pandas as pd\n",
    "from tqdm import tqdm\n",
    "from datetime import datetime\n",
    "\n",
    "# Set the path of the folder containing the PDF files\n",
    "pdf_folder_path = \"./imsr_folder_2023\"\n",
    "\n",
    "# Set the path of the folder where the CSV files will be saved\n",
    "csv_folder_path = \"./imsr_table_csv_folder/imsr_table_csv_folder_2023\"\n",
    "\n",
    "# Create the CSV folder if it doesn't exist\n",
    "if not os.path.exists(csv_folder_path):\n",
    "    os.makedirs(csv_folder_path)\n",
    "\n",
    "# Get a list of the PDF files in the PDF folder\n",
    "pdf_files = [f for f in os.listdir(pdf_folder_path) if f.endswith('.pdf')]\n",
    "\n",
    "# Initialize a progress bar\n",
    "pbar = tqdm(total=len(pdf_files))\n",
    "\n",
    "# Loop through the PDF files\n",
    "for pdf_file in pdf_files:\n",
    "    # Set the path of the input PDF file\n",
    "    pdf_path = os.path.join(pdf_folder_path, pdf_file)\n",
    "\n",
    "    # Set the path of the output CSV file\n",
    "    csv_file = os.path.splitext(pdf_file)[0] + \".csv\"\n",
    "    csv_path = os.path.join(csv_folder_path, csv_file)\n",
    "\n",
    "    # extract date from pdf file name\n",
    "    pdf_date = datetime.strptime(pdf_file[:10], '%Y_%m_%d').strftime('%m/%d/%Y')\n",
    "\n",
    "    # Extract the table from the PDF file\n",
    "    table_df = pd.DataFrame()\n",
    "    for table in tabula.read_pdf(pdf_path, pages='all', lattice=True, pandas_options={'header': None}):\n",
    "        if 'Active Incident Resource Summary' in str(table.values):\n",
    "            table_df = pd.DataFrame(table)\n",
    "            break\n",
    "\n",
    "    # Add the date to the table DataFrame\n",
    "    table_df.insert(0, 'Date', pdf_date)\n",
    "\n",
    "    # Save the table DataFrame to a CSV file\n",
    "    table_df.to_csv(csv_path, index=False)\n",
    "\n",
    "    # Update the progress bar\n",
    "    pbar.update(1)\n",
    "\n",
    "# Close the progress bar\n",
    "pbar.close()\n",
    "\n",
    "print(\"Done!\")"
   ]
  },
  {
   "cell_type": "code",
   "execution_count": null,
   "id": "047e5248",
   "metadata": {},
   "outputs": [],
   "source": []
  }
 ],
 "metadata": {
  "kernelspec": {
   "display_name": "Python 3 (ipykernel)",
   "language": "python",
   "name": "python3"
  },
  "language_info": {
   "codemirror_mode": {
    "name": "ipython",
    "version": 3
   },
   "file_extension": ".py",
   "mimetype": "text/x-python",
   "name": "python",
   "nbconvert_exporter": "python",
   "pygments_lexer": "ipython3",
   "version": "3.9.13"
  }
 },
 "nbformat": 4,
 "nbformat_minor": 5
}
